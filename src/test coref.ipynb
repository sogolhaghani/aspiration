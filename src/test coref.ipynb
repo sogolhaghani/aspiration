{
  "cells": [
    {
      "cell_type": "code",
      "execution_count": 1,
      "metadata": {
        "id": "2nRibR0EjVXU"
      },
      "outputs": [],
      "source": [
        "import pandas as pd"
      ]
    },
    {
      "cell_type": "code",
      "execution_count": 20,
      "metadata": {
        "colab": {
          "base_uri": "https://localhost:8080/",
          "height": 1000
        },
        "id": "0_ImkM6Zjs8U",
        "outputId": "c784c546-92d2-47bd-8340-263ce97c501b"
      },
      "outputs": [],
      "source": [
        "_read_directory = '../out/'\n",
        "_doc = ['Thinking fast and Slow',\n",
        "'Theories of Personality',\n",
        "'WHY MEN LOVE Bitches']\n",
        "\n",
        "_raw_data = pd.read_csv(_read_directory + _doc[2] + '.txt', delimiter = \"\\t\", header=None)\n",
        "# _raw_data.loc[:, ['col2']]\n"
      ]
    },
    {
      "cell_type": "code",
      "execution_count": 31,
      "metadata": {},
      "outputs": [
        {
          "name": "stdout",
          "output_type": "stream",
          "text": [
            "Praise for Sherry Argov’s\n",
            "WHY MEN LOVE “No one’s ever written a relationship book like this one.\n",
            "This book takes satire to a whole new level.\n",
            "It’s not only funny, it’s very real.\n",
            "It is full of ‘slice of life humor’ that covers everything that frustrates women about men.”\n",
            "—BELINDA FOSTER, producer of the Girls of the Comedy Store at the World Famous Comedy Store\n",
            "“Her sassy book is filled with scenarios and advice aimed at making women subtly stronger and self-empowered.\n",
            "The book, which has already been featured on The View and The O’Reilly Factor, should make waves with its controversial view of relationships.”\n",
            "—Publishers Weekly “\n",
            "Wow!\n",
            "I am impressed . . .\n"
          ]
        }
      ],
      "source": [
        "_raw_data.loc[0:10].values\n",
        "listToStr = \"\\n\".join([str(elem[0]) for elem in _raw_data.loc[0:10].values]) \n",
        "print(listToStr)\n",
        "# \"\\n\".join(_raw_data)\n"
      ]
    }
  ],
  "metadata": {
    "colab": {
      "collapsed_sections": [],
      "name": "Untitled1.ipynb",
      "provenance": []
    },
    "kernelspec": {
      "display_name": "Python 3",
      "name": "python3"
    },
    "language_info": {
      "codemirror_mode": {
        "name": "ipython",
        "version": 3
      },
      "file_extension": ".py",
      "mimetype": "text/x-python",
      "name": "python",
      "nbconvert_exporter": "python",
      "pygments_lexer": "ipython3",
      "version": "3.7.7"
    }
  },
  "nbformat": 4,
  "nbformat_minor": 0
}
